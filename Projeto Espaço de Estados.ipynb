{
 "cells": [
  {
   "cell_type": "markdown",
   "metadata": {},
   "source": [
    "## Representação do sistema em malha aberta"
   ]
  },
  {
   "cell_type": "code",
   "execution_count": 2,
   "metadata": {},
   "outputs": [],
   "source": [
    "from numpy import * # package for numerical calculations\n",
    "from pylab import * # package for graphics\n",
    "from control import * # package for control theory calculations\n",
    "from control.matlab import * # package for control theory calculations\n",
    "ion() # display graphics automatically"
   ]
  },
  {
   "cell_type": "code",
   "execution_count": 3,
   "metadata": {},
   "outputs": [
    {
     "name": "stdout",
     "output_type": "stream",
     "text": [
      "\n",
      "     2\n",
      "-----------\n",
      "s^2 + 0.5 s\n",
      "\n"
     ]
    }
   ],
   "source": [
    "sys = tf([2], [1, 0.5, 0]) # Define a transfer function\n",
    "print(sys)"
   ]
  },
  {
   "cell_type": "code",
   "execution_count": 4,
   "metadata": {},
   "outputs": [
    {
     "name": "stdout",
     "output_type": "stream",
     "text": [
      "FT em malha aberta\n",
      "\n",
      "     2\n",
      "-----------\n",
      "s^2 + 0.5 s\n",
      "\n"
     ]
    }
   ],
   "source": [
    "print(\"FT em malha aberta\")\n",
    "print(sys)"
   ]
  },
  {
   "cell_type": "code",
   "execution_count": 5,
   "metadata": {},
   "outputs": [
    {
     "name": "stdout",
     "output_type": "stream",
     "text": [
      "Representação no espaço de estados\n",
      "A = [[-0.5 -0. ]\n",
      " [ 1.   0. ]]\n",
      "\n",
      "B = [[1.]\n",
      " [0.]]\n",
      "\n",
      "C = [[0. 2.]]\n",
      "\n",
      "D = [[0.]]\n",
      "\n"
     ]
    }
   ],
   "source": [
    "sys_ss = tf2ss(sys)\n",
    "print(\"Representação no espaço de estados\")\n",
    "print(sys_ss)\n",
    "A, B, C, D = sys_ss.A, sys_ss.B, sys_ss.C, sys_ss.D"
   ]
  },
  {
   "cell_type": "code",
   "execution_count": null,
   "metadata": {},
   "outputs": [],
   "source": []
  }
 ],
 "metadata": {
  "kernelspec": {
   "display_name": "Python 3",
   "language": "python",
   "name": "python3"
  },
  "language_info": {
   "codemirror_mode": {
    "name": "ipython",
    "version": 3
   },
   "file_extension": ".py",
   "mimetype": "text/x-python",
   "name": "python",
   "nbconvert_exporter": "python",
   "pygments_lexer": "ipython3",
   "version": "3.6.2"
  }
 },
 "nbformat": 4,
 "nbformat_minor": 2
}
