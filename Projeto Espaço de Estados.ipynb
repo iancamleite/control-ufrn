{
 "cells": [
  {
   "cell_type": "markdown",
   "metadata": {},
   "source": [
    "## Setup "
   ]
  },
  {
   "cell_type": "code",
   "execution_count": 45,
   "metadata": {},
   "outputs": [],
   "source": [
    "from numpy import * # package for numerical calculations\n",
    "from pylab import * # package for graphics\n",
    "from control import * # package for control theory calculations\n",
    "from control.matlab import * # package for control theory calculations\n",
    "ion() # display graphics automatically"
   ]
  },
  {
   "cell_type": "markdown",
   "metadata": {},
   "source": [
    "## Representação do sistema em malha aberta"
   ]
  },
  {
   "cell_type": "code",
   "execution_count": 46,
   "metadata": {
    "scrolled": false
   },
   "outputs": [
    {
     "data": {
      "text/latex": [
       "$$\\frac{2}{s^2 + 0.5 s}$$"
      ],
      "text/plain": [
       "\n",
       "     2\n",
       "-----------\n",
       "s^2 + 0.5 s"
      ]
     },
     "execution_count": 46,
     "metadata": {},
     "output_type": "execute_result"
    }
   ],
   "source": [
    "sys = tf([2], [1, 0.5, 0]) # Define a transfer function\n",
    "sys"
   ]
  },
  {
   "cell_type": "markdown",
   "metadata": {},
   "source": [
    "### Sistema em espaço de Estados"
   ]
  },
  {
   "cell_type": "code",
   "execution_count": 76,
   "metadata": {
    "scrolled": true
   },
   "outputs": [
    {
     "data": {
      "text/plain": [
       "A = [[-0.5 -0. ]\n",
       " [ 1.   0. ]]\n",
       "\n",
       "B = [[1.]\n",
       " [0.]]\n",
       "\n",
       "C = [[0. 2.]]\n",
       "\n",
       "D = [[0.]]"
      ]
     },
     "execution_count": 76,
     "metadata": {},
     "output_type": "execute_result"
    }
   ],
   "source": [
    "sys_ss = tf2ss(sys)\n",
    "A, B, C, D = sys_ss.A, sys_ss.B, sys_ss.C, sys_ss.D\n",
    "sys_ss"
   ]
  },
  {
   "cell_type": "markdown",
   "metadata": {},
   "source": [
    "### Diagrama de polos e zeros"
   ]
  },
  {
   "cell_type": "code",
   "execution_count": 77,
   "metadata": {
    "scrolled": true
   },
   "outputs": [
    {
     "data": {
      "text/plain": [
       "(array([-0.5,  0. ]), array([], dtype=float64))"
      ]
     },
     "execution_count": 77,
     "metadata": {},
     "output_type": "execute_result"
    },
    {
     "data": {
      "image/png": "[encoded data removed]",
      "text/plain": [
       "<Figure size 432x288 with 1 Axes>"
      ]
     },
     "metadata": {
      "needs_background": "light"
     },
     "output_type": "display_data"
    }
   ],
   "source": [
    "pzmap(sys)"
   ]
  },
  {
   "cell_type": "markdown",
   "metadata": {},
   "source": [
    "### Resposta ao degrau"
   ]
  },
  {
   "cell_type": "code",
   "execution_count": 78,
   "metadata": {
    "scrolled": true
   },
   "outputs": [
    {
     "data": {
      "text/plain": [
       "[<matplotlib.lines.Line2D at 0x1c19619ba8>]"
      ]
     },
     "execution_count": 78,
     "metadata": {},
     "output_type": "execute_result"
    },
    {
     "data": {
      "image/png": "[encoded data removed]",
      "text/plain": [
       "<Figure size 432x288 with 1 Axes>"
      ]
     },
     "metadata": {
      "needs_background": "light"
     },
     "output_type": "display_data"
    }
   ],
   "source": [
    "T = np.arange(0,10,0.001)\n",
    "T, y = step_response(sys, T) \n",
    "\n",
    "plt.plot(T, y)"
   ]
  },
  {
   "cell_type": "markdown",
   "metadata": {},
   "source": [
    "## Representação do sistema em malha fechada"
   ]
  },
  {
   "cell_type": "code",
   "execution_count": 79,
   "metadata": {},
   "outputs": [
    {
     "data": {
      "text/latex": [
       "$$\\frac{2 s^2 + s}{s^4 + s^3 + 2.25 s^2 + s}$$"
      ],
      "text/plain": [
       "\n",
       "        2 s^2 + s\n",
       "------------------------\n",
       "s^4 + s^3 + 2.25 s^2 + s"
      ]
     },
     "execution_count": 79,
     "metadata": {},
     "output_type": "execute_result"
    }
   ],
   "source": [
    "sysmf_tf = sys / (1 + sys) \n",
    "sysmf_tf"
   ]
  },
  {
   "cell_type": "markdown",
   "metadata": {},
   "source": [
    "### Polos e zeros"
   ]
  },
  {
   "cell_type": "code",
   "execution_count": 80,
   "metadata": {
    "scrolled": true
   },
   "outputs": [
    {
     "data": {
      "text/plain": [
       "[<matplotlib.lines.Line2D at 0x1c1963f080>]"
      ]
     },
     "execution_count": 80,
     "metadata": {},
     "output_type": "execute_result"
    },
    {
     "data": {
      "image/png": "[encoded data removed]",
      "text/plain": [
       "<Figure size 432x288 with 1 Axes>"
      ]
     },
     "metadata": {
      "needs_background": "light"
     },
     "output_type": "display_data"
    }
   ],
   "source": [
    "a = pzmap(sysmf_tf) \n",
    "plt.plot(a[1][0], a[1][1], 'or') "
   ]
  },
  {
   "cell_type": "markdown",
   "metadata": {},
   "source": [
    "## Projeto do controlador por espaço de estados"
   ]
  },
  {
   "cell_type": "code",
   "execution_count": 81,
   "metadata": {},
   "outputs": [],
   "source": [
    "from sympy import Symbol, solve, log, sqrt\n",
    "x = Symbol('x')"
   ]
  },
  {
   "cell_type": "code",
   "execution_count": 82,
   "metadata": {},
   "outputs": [],
   "source": [
    "from sympy.functions.elementary import exponential"
   ]
  },
  {
   "cell_type": "code",
   "execution_count": 83,
   "metadata": {},
   "outputs": [],
   "source": [
    "xi = solve(0.1631 - exponential.exp(-x*pi/sqrt(1-x**2)), rational=False)"
   ]
  },
  {
   "cell_type": "code",
   "execution_count": 84,
   "metadata": {},
   "outputs": [
    {
     "data": {
      "text/plain": [
       "[0.499915723335591]"
      ]
     },
     "execution_count": 84,
     "metadata": {},
     "output_type": "execute_result"
    }
   ],
   "source": [
    "xi"
   ]
  },
  {
   "cell_type": "code",
   "execution_count": 85,
   "metadata": {},
   "outputs": [
    {
     "name": "stdout",
     "output_type": "stream",
     "text": [
      "[[ 3.5    15.9716]]\n"
     ]
    }
   ],
   "source": [
    "K = place(A,B,[complex(-2,3.46),complex(-2,-3.46)])\n",
    "\n",
    "A = A - dot(B,K)\n",
    "\n",
    "sysmf_ss =  StateSpace(A,B,C,D) #\n",
    "\n",
    "print(K)"
   ]
  },
  {
   "cell_type": "code",
   "execution_count": 68,
   "metadata": {},
   "outputs": [
    {
     "name": "stdout",
     "output_type": "stream",
     "text": [
      "\n",
      "        2\n",
      "-----------------\n",
      "s^2 + 4 s + 15.97\n",
      "\n"
     ]
    },
    {
     "data": {
      "image/png": "[encoded data removed]",
      "text/plain": [
       "<Figure size 432x288 with 1 Axes>"
      ]
     },
     "metadata": {
      "needs_background": "light"
     },
     "output_type": "display_data"
    }
   ],
   "source": [
    "p = pzmap(sysmf_ss)\n",
    "print(ss2tf(sysmf_ss))"
   ]
  },
  {
   "cell_type": "markdown",
   "metadata": {},
   "source": [
    "### Simulação da FT de espaço de estados\n",
    "$$ G_f(s) = \\frac{G_P}{1 + K_1 s G_P + K_2 G_p} $$"
   ]
  },
  {
   "cell_type": "code",
   "execution_count": 86,
   "metadata": {},
   "outputs": [
    {
     "name": "stdout",
     "output_type": "stream",
     "text": [
      "\n",
      "        7.854 s^4 + 7.854 s^3 + 1.964 s^2\n",
      "-------------------------------------------------\n",
      "s^6 + 8.5 s^5 + 39.69 s^4 + 33.82 s^3 + 7.986 s^2\n",
      "\n",
      "3.5 15.971600000000004\n"
     ]
    }
   ],
   "source": [
    "Gp = tf([2], [1, 0.5, 0])\n",
    "s = tf([1, 0], [1]) \n",
    "K1, K2 = K[0][0], K[0][1]\n",
    "\n",
    "Gf = Gp / (1 + K1*s*Gp +K2*Gp) #K0 * \n",
    "print(Gf)\n",
    "print( K1, K2)"
   ]
  },
  {
   "cell_type": "code",
   "execution_count": 87,
   "metadata": {
    "scrolled": true
   },
   "outputs": [
    {
     "data": {
      "text/plain": [
       "[<matplotlib.lines.Line2D at 0x1c19891ba8>]"
      ]
     },
     "execution_count": 87,
     "metadata": {},
     "output_type": "execute_result"
    },
    {
     "data": {
      "image/png": "[encoded data removed]",
      "text/plain": [
       "<Figure size 432x288 with 1 Axes>"
      ]
     },
     "metadata": {
      "needs_background": "light"
     },
     "output_type": "display_data"
    }
   ],
   "source": [
    "T = np.arange(0,20,.001)\n",
    "T, y = step_response(Gf, T) \n",
    "\n",
    "plt.plot(T,y)"
   ]
  },
  {
   "cell_type": "code",
   "execution_count": 88,
   "metadata": {},
   "outputs": [],
   "source": [
    "def step_info(t, y): \n",
    "  OS = (y.max()/y[-1]-1)*100\n",
    "  try:\n",
    "      i10 = next(i for i in range(0,len(y)-1) if y[i]>=y[-1]*.10)\n",
    "      Tr = round(t[next(i for i in range(i10,len(y)-1) if y[i]>=y[-1]*.90)]-t[i10],2)\n",
    "  except StopIteration:\n",
    "      Tr = \"unknown\"\n",
    "  try:\n",
    "      Ts = round(\n",
    "          t[next(len(y)-i \n",
    "                 for i in range(2,len(y)-1) \n",
    "                 if (abs(y[-i]/y[-1])>1.02 or abs(y[-i]/y[-1])<0.98))]-t[0],2)\n",
    "  except StopIteration:\n",
    "      Ts = \"unknown\"\n",
    "      \n",
    "  return OS, Tr, Ts"
   ]
  },
  {
   "cell_type": "code",
   "execution_count": 89,
   "metadata": {},
   "outputs": [],
   "source": [
    "T = np.arange(0,20,.001)\n",
    "T, y = step_response(Gf, T) "
   ]
  },
  {
   "cell_type": "code",
   "execution_count": 90,
   "metadata": {
    "scrolled": true
   },
   "outputs": [
    {
     "name": "stdout",
     "output_type": "stream",
     "text": [
      "OS: 6.166431 %\n",
      "Tr: 0.360000 s\n",
      "Ts: 1.060000 s\n"
     ]
    }
   ],
   "source": [
    "OS, Tr, Ts = step_info(T, y)\n",
    "print(\"OS: %f\" %OS,\"%\")\n",
    "print(\"Tr: %f\" %Tr,\"s\")\n",
    "print(\"Ts: %f\" %Ts,\"s\")"
   ]
  },
  {
   "cell_type": "code",
   "execution_count": null,
   "metadata": {},
   "outputs": [],
   "source": []
  }
 ],
 "metadata": {
  "kernelspec": {
   "display_name": "Python 3",
   "language": "python",
   "name": "python3"
  },
  "language_info": {
   "codemirror_mode": {
    "name": "ipython",
    "version": 3
   },
   "file_extension": ".py",
   "mimetype": "text/x-python",
   "name": "python",
   "nbconvert_exporter": "python",
   "pygments_lexer": "ipython3",
   "version": "3.6.2"
  }
 },
 "nbformat": 4,
 "nbformat_minor": 2
}
